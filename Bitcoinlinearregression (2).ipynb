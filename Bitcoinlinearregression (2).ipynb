{
 "cells": [
  {
   "cell_type": "code",
   "execution_count": 22,
   "metadata": {},
   "outputs": [],
   "source": [
    "import pandas as pd\n",
    "import altair as alt\n",
    "import datetime as datetime\n",
    "import pandas_datareader as DataReader\n",
    "import scipy\n",
    "import sklearn\n",
    "from sklearn.linear_model import LinearRegression\n",
    "import numpy as np"
   ]
  },
  {
   "cell_type": "code",
   "execution_count": 31,
   "metadata": {},
   "outputs": [],
   "source": [
    "# Round values to the nearest hundreth (cent)\n",
    "pd.set_option('display.float_format', lambda x: '%.2f' % x)"
   ]
  },
  {
   "cell_type": "code",
   "execution_count": 24,
   "metadata": {},
   "outputs": [
    {
     "ename": "FileNotFoundError",
     "evalue": "[Errno 2] File b'bitstampUSD.csv' does not exist: b'bitstampUSD.csv'",
     "output_type": "error",
     "traceback": [
      "\u001b[0;31m---------------------------------------------------------------------------\u001b[0m",
      "\u001b[0;31mFileNotFoundError\u001b[0m                         Traceback (most recent call last)",
      "\u001b[0;32m<ipython-input-24-8a4ea23557f3>\u001b[0m in \u001b[0;36m<module>\u001b[0;34m\u001b[0m\n\u001b[1;32m      1\u001b[0m \u001b[0;31m# Get the Bitcoin Historical Pricing Data\u001b[0m\u001b[0;34m\u001b[0m\u001b[0;34m\u001b[0m\u001b[0;34m\u001b[0m\u001b[0m\n\u001b[0;32m----> 2\u001b[0;31m \u001b[0mdf\u001b[0m \u001b[0;34m=\u001b[0m \u001b[0mpd\u001b[0m\u001b[0;34m.\u001b[0m\u001b[0mread_csv\u001b[0m\u001b[0;34m(\u001b[0m\u001b[0;34m\"bitstampUSD.csv\"\u001b[0m\u001b[0;34m)\u001b[0m\u001b[0;34m\u001b[0m\u001b[0;34m\u001b[0m\u001b[0m\n\u001b[0m\u001b[1;32m      3\u001b[0m \u001b[0mdf\u001b[0m\u001b[0;34m.\u001b[0m\u001b[0mhead\u001b[0m\u001b[0;34m(\u001b[0m\u001b[0;34m)\u001b[0m\u001b[0;34m\u001b[0m\u001b[0;34m\u001b[0m\u001b[0m\n",
      "\u001b[0;32m/opt/conda/lib/python3.7/site-packages/pandas/io/parsers.py\u001b[0m in \u001b[0;36mparser_f\u001b[0;34m(filepath_or_buffer, sep, delimiter, header, names, index_col, usecols, squeeze, prefix, mangle_dupe_cols, dtype, engine, converters, true_values, false_values, skipinitialspace, skiprows, skipfooter, nrows, na_values, keep_default_na, na_filter, verbose, skip_blank_lines, parse_dates, infer_datetime_format, keep_date_col, date_parser, dayfirst, cache_dates, iterator, chunksize, compression, thousands, decimal, lineterminator, quotechar, quoting, doublequote, escapechar, comment, encoding, dialect, error_bad_lines, warn_bad_lines, delim_whitespace, low_memory, memory_map, float_precision)\u001b[0m\n\u001b[1;32m    683\u001b[0m         )\n\u001b[1;32m    684\u001b[0m \u001b[0;34m\u001b[0m\u001b[0m\n\u001b[0;32m--> 685\u001b[0;31m         \u001b[0;32mreturn\u001b[0m \u001b[0m_read\u001b[0m\u001b[0;34m(\u001b[0m\u001b[0mfilepath_or_buffer\u001b[0m\u001b[0;34m,\u001b[0m \u001b[0mkwds\u001b[0m\u001b[0;34m)\u001b[0m\u001b[0;34m\u001b[0m\u001b[0;34m\u001b[0m\u001b[0m\n\u001b[0m\u001b[1;32m    686\u001b[0m \u001b[0;34m\u001b[0m\u001b[0m\n\u001b[1;32m    687\u001b[0m     \u001b[0mparser_f\u001b[0m\u001b[0;34m.\u001b[0m\u001b[0m__name__\u001b[0m \u001b[0;34m=\u001b[0m \u001b[0mname\u001b[0m\u001b[0;34m\u001b[0m\u001b[0;34m\u001b[0m\u001b[0m\n",
      "\u001b[0;32m/opt/conda/lib/python3.7/site-packages/pandas/io/parsers.py\u001b[0m in \u001b[0;36m_read\u001b[0;34m(filepath_or_buffer, kwds)\u001b[0m\n\u001b[1;32m    455\u001b[0m \u001b[0;34m\u001b[0m\u001b[0m\n\u001b[1;32m    456\u001b[0m     \u001b[0;31m# Create the parser.\u001b[0m\u001b[0;34m\u001b[0m\u001b[0;34m\u001b[0m\u001b[0;34m\u001b[0m\u001b[0m\n\u001b[0;32m--> 457\u001b[0;31m     \u001b[0mparser\u001b[0m \u001b[0;34m=\u001b[0m \u001b[0mTextFileReader\u001b[0m\u001b[0;34m(\u001b[0m\u001b[0mfp_or_buf\u001b[0m\u001b[0;34m,\u001b[0m \u001b[0;34m**\u001b[0m\u001b[0mkwds\u001b[0m\u001b[0;34m)\u001b[0m\u001b[0;34m\u001b[0m\u001b[0;34m\u001b[0m\u001b[0m\n\u001b[0m\u001b[1;32m    458\u001b[0m \u001b[0;34m\u001b[0m\u001b[0m\n\u001b[1;32m    459\u001b[0m     \u001b[0;32mif\u001b[0m \u001b[0mchunksize\u001b[0m \u001b[0;32mor\u001b[0m \u001b[0miterator\u001b[0m\u001b[0;34m:\u001b[0m\u001b[0;34m\u001b[0m\u001b[0;34m\u001b[0m\u001b[0m\n",
      "\u001b[0;32m/opt/conda/lib/python3.7/site-packages/pandas/io/parsers.py\u001b[0m in \u001b[0;36m__init__\u001b[0;34m(self, f, engine, **kwds)\u001b[0m\n\u001b[1;32m    893\u001b[0m             \u001b[0mself\u001b[0m\u001b[0;34m.\u001b[0m\u001b[0moptions\u001b[0m\u001b[0;34m[\u001b[0m\u001b[0;34m\"has_index_names\"\u001b[0m\u001b[0;34m]\u001b[0m \u001b[0;34m=\u001b[0m \u001b[0mkwds\u001b[0m\u001b[0;34m[\u001b[0m\u001b[0;34m\"has_index_names\"\u001b[0m\u001b[0;34m]\u001b[0m\u001b[0;34m\u001b[0m\u001b[0;34m\u001b[0m\u001b[0m\n\u001b[1;32m    894\u001b[0m \u001b[0;34m\u001b[0m\u001b[0m\n\u001b[0;32m--> 895\u001b[0;31m         \u001b[0mself\u001b[0m\u001b[0;34m.\u001b[0m\u001b[0m_make_engine\u001b[0m\u001b[0;34m(\u001b[0m\u001b[0mself\u001b[0m\u001b[0;34m.\u001b[0m\u001b[0mengine\u001b[0m\u001b[0;34m)\u001b[0m\u001b[0;34m\u001b[0m\u001b[0;34m\u001b[0m\u001b[0m\n\u001b[0m\u001b[1;32m    896\u001b[0m \u001b[0;34m\u001b[0m\u001b[0m\n\u001b[1;32m    897\u001b[0m     \u001b[0;32mdef\u001b[0m \u001b[0mclose\u001b[0m\u001b[0;34m(\u001b[0m\u001b[0mself\u001b[0m\u001b[0;34m)\u001b[0m\u001b[0;34m:\u001b[0m\u001b[0;34m\u001b[0m\u001b[0;34m\u001b[0m\u001b[0m\n",
      "\u001b[0;32m/opt/conda/lib/python3.7/site-packages/pandas/io/parsers.py\u001b[0m in \u001b[0;36m_make_engine\u001b[0;34m(self, engine)\u001b[0m\n\u001b[1;32m   1133\u001b[0m     \u001b[0;32mdef\u001b[0m \u001b[0m_make_engine\u001b[0m\u001b[0;34m(\u001b[0m\u001b[0mself\u001b[0m\u001b[0;34m,\u001b[0m \u001b[0mengine\u001b[0m\u001b[0;34m=\u001b[0m\u001b[0;34m\"c\"\u001b[0m\u001b[0;34m)\u001b[0m\u001b[0;34m:\u001b[0m\u001b[0;34m\u001b[0m\u001b[0;34m\u001b[0m\u001b[0m\n\u001b[1;32m   1134\u001b[0m         \u001b[0;32mif\u001b[0m \u001b[0mengine\u001b[0m \u001b[0;34m==\u001b[0m \u001b[0;34m\"c\"\u001b[0m\u001b[0;34m:\u001b[0m\u001b[0;34m\u001b[0m\u001b[0;34m\u001b[0m\u001b[0m\n\u001b[0;32m-> 1135\u001b[0;31m             \u001b[0mself\u001b[0m\u001b[0;34m.\u001b[0m\u001b[0m_engine\u001b[0m \u001b[0;34m=\u001b[0m \u001b[0mCParserWrapper\u001b[0m\u001b[0;34m(\u001b[0m\u001b[0mself\u001b[0m\u001b[0;34m.\u001b[0m\u001b[0mf\u001b[0m\u001b[0;34m,\u001b[0m \u001b[0;34m**\u001b[0m\u001b[0mself\u001b[0m\u001b[0;34m.\u001b[0m\u001b[0moptions\u001b[0m\u001b[0;34m)\u001b[0m\u001b[0;34m\u001b[0m\u001b[0;34m\u001b[0m\u001b[0m\n\u001b[0m\u001b[1;32m   1136\u001b[0m         \u001b[0;32melse\u001b[0m\u001b[0;34m:\u001b[0m\u001b[0;34m\u001b[0m\u001b[0;34m\u001b[0m\u001b[0m\n\u001b[1;32m   1137\u001b[0m             \u001b[0;32mif\u001b[0m \u001b[0mengine\u001b[0m \u001b[0;34m==\u001b[0m \u001b[0;34m\"python\"\u001b[0m\u001b[0;34m:\u001b[0m\u001b[0;34m\u001b[0m\u001b[0;34m\u001b[0m\u001b[0m\n",
      "\u001b[0;32m/opt/conda/lib/python3.7/site-packages/pandas/io/parsers.py\u001b[0m in \u001b[0;36m__init__\u001b[0;34m(self, src, **kwds)\u001b[0m\n\u001b[1;32m   1915\u001b[0m         \u001b[0mkwds\u001b[0m\u001b[0;34m[\u001b[0m\u001b[0;34m\"usecols\"\u001b[0m\u001b[0;34m]\u001b[0m \u001b[0;34m=\u001b[0m \u001b[0mself\u001b[0m\u001b[0;34m.\u001b[0m\u001b[0musecols\u001b[0m\u001b[0;34m\u001b[0m\u001b[0;34m\u001b[0m\u001b[0m\n\u001b[1;32m   1916\u001b[0m \u001b[0;34m\u001b[0m\u001b[0m\n\u001b[0;32m-> 1917\u001b[0;31m         \u001b[0mself\u001b[0m\u001b[0;34m.\u001b[0m\u001b[0m_reader\u001b[0m \u001b[0;34m=\u001b[0m \u001b[0mparsers\u001b[0m\u001b[0;34m.\u001b[0m\u001b[0mTextReader\u001b[0m\u001b[0;34m(\u001b[0m\u001b[0msrc\u001b[0m\u001b[0;34m,\u001b[0m \u001b[0;34m**\u001b[0m\u001b[0mkwds\u001b[0m\u001b[0;34m)\u001b[0m\u001b[0;34m\u001b[0m\u001b[0;34m\u001b[0m\u001b[0m\n\u001b[0m\u001b[1;32m   1918\u001b[0m         \u001b[0mself\u001b[0m\u001b[0;34m.\u001b[0m\u001b[0munnamed_cols\u001b[0m \u001b[0;34m=\u001b[0m \u001b[0mself\u001b[0m\u001b[0;34m.\u001b[0m\u001b[0m_reader\u001b[0m\u001b[0;34m.\u001b[0m\u001b[0munnamed_cols\u001b[0m\u001b[0;34m\u001b[0m\u001b[0;34m\u001b[0m\u001b[0m\n\u001b[1;32m   1919\u001b[0m \u001b[0;34m\u001b[0m\u001b[0m\n",
      "\u001b[0;32mpandas/_libs/parsers.pyx\u001b[0m in \u001b[0;36mpandas._libs.parsers.TextReader.__cinit__\u001b[0;34m()\u001b[0m\n",
      "\u001b[0;32mpandas/_libs/parsers.pyx\u001b[0m in \u001b[0;36mpandas._libs.parsers.TextReader._setup_parser_source\u001b[0;34m()\u001b[0m\n",
      "\u001b[0;31mFileNotFoundError\u001b[0m: [Errno 2] File b'bitstampUSD.csv' does not exist: b'bitstampUSD.csv'"
     ]
    }
   ],
   "source": [
    "# Get the Bitcoin Historical Pricing Data\n",
    "df = pd.read_csv(\"bitstampUSD.csv\")\n",
    "df.head()"
   ]
  },
  {
   "cell_type": "code",
   "execution_count": null,
   "metadata": {},
   "outputs": [],
   "source": [
    "# Problems with the data set\n",
    "# NaN values early on, data is by the second which doesn't correspond\n",
    "# with most technical indicators and other financial instruments\n",
    "df.info()"
   ]
  },
  {
   "cell_type": "code",
   "execution_count": null,
   "metadata": {},
   "outputs": [],
   "source": [
    "df.describe()"
   ]
  },
  {
   "cell_type": "code",
   "execution_count": null,
   "metadata": {},
   "outputs": [],
   "source": [
    "# what percent of set is null?\n",
    "print(df.isnull().sum()*100/df.isnull().count())"
   ]
  },
  {
   "cell_type": "code",
   "execution_count": null,
   "metadata": {},
   "outputs": [],
   "source": [
    "# we will ignore earilier dates with NaN values\n",
    "bitcoin = df.dropna()\n",
    "bitcoin"
   ]
  },
  {
   "cell_type": "code",
   "execution_count": 25,
   "metadata": {},
   "outputs": [
    {
     "ename": "KeyError",
     "evalue": "'Timestamp'",
     "output_type": "error",
     "traceback": [
      "\u001b[0;31m---------------------------------------------------------------------------\u001b[0m",
      "\u001b[0;31mKeyError\u001b[0m                                  Traceback (most recent call last)",
      "\u001b[0;32m/opt/conda/lib/python3.7/site-packages/pandas/core/indexes/base.py\u001b[0m in \u001b[0;36mget_loc\u001b[0;34m(self, key, method, tolerance)\u001b[0m\n\u001b[1;32m   2896\u001b[0m             \u001b[0;32mtry\u001b[0m\u001b[0;34m:\u001b[0m\u001b[0;34m\u001b[0m\u001b[0;34m\u001b[0m\u001b[0m\n\u001b[0;32m-> 2897\u001b[0;31m                 \u001b[0;32mreturn\u001b[0m \u001b[0mself\u001b[0m\u001b[0;34m.\u001b[0m\u001b[0m_engine\u001b[0m\u001b[0;34m.\u001b[0m\u001b[0mget_loc\u001b[0m\u001b[0;34m(\u001b[0m\u001b[0mkey\u001b[0m\u001b[0;34m)\u001b[0m\u001b[0;34m\u001b[0m\u001b[0;34m\u001b[0m\u001b[0m\n\u001b[0m\u001b[1;32m   2898\u001b[0m             \u001b[0;32mexcept\u001b[0m \u001b[0mKeyError\u001b[0m\u001b[0;34m:\u001b[0m\u001b[0;34m\u001b[0m\u001b[0;34m\u001b[0m\u001b[0m\n",
      "\u001b[0;32mpandas/_libs/index.pyx\u001b[0m in \u001b[0;36mpandas._libs.index.IndexEngine.get_loc\u001b[0;34m()\u001b[0m\n",
      "\u001b[0;32mpandas/_libs/index.pyx\u001b[0m in \u001b[0;36mpandas._libs.index.IndexEngine.get_loc\u001b[0;34m()\u001b[0m\n",
      "\u001b[0;32mpandas/_libs/hashtable_class_helper.pxi\u001b[0m in \u001b[0;36mpandas._libs.hashtable.PyObjectHashTable.get_item\u001b[0;34m()\u001b[0m\n",
      "\u001b[0;32mpandas/_libs/hashtable_class_helper.pxi\u001b[0m in \u001b[0;36mpandas._libs.hashtable.PyObjectHashTable.get_item\u001b[0;34m()\u001b[0m\n",
      "\u001b[0;31mKeyError\u001b[0m: 'Timestamp'",
      "\nDuring handling of the above exception, another exception occurred:\n",
      "\u001b[0;31mKeyError\u001b[0m                                  Traceback (most recent call last)",
      "\u001b[0;32m<ipython-input-25-fd8c4474465b>\u001b[0m in \u001b[0;36m<module>\u001b[0;34m\u001b[0m\n\u001b[1;32m      1\u001b[0m \u001b[0;31m# convert the timestamp variable to a datetime object\u001b[0m\u001b[0;34m\u001b[0m\u001b[0;34m\u001b[0m\u001b[0;34m\u001b[0m\u001b[0m\n\u001b[0;32m----> 2\u001b[0;31m \u001b[0mbitcoin\u001b[0m\u001b[0;34m[\u001b[0m\u001b[0;34m'Timestamp'\u001b[0m\u001b[0;34m]\u001b[0m\u001b[0;34m=\u001b[0m\u001b[0mpd\u001b[0m\u001b[0;34m.\u001b[0m\u001b[0mto_datetime\u001b[0m\u001b[0;34m(\u001b[0m\u001b[0mbitcoin\u001b[0m\u001b[0;34m[\u001b[0m\u001b[0;34m'Timestamp'\u001b[0m\u001b[0;34m]\u001b[0m\u001b[0;34m,\u001b[0m\u001b[0munit\u001b[0m\u001b[0;34m=\u001b[0m\u001b[0;34m's'\u001b[0m\u001b[0;34m)\u001b[0m\u001b[0;34m\u001b[0m\u001b[0;34m\u001b[0m\u001b[0m\n\u001b[0m\u001b[1;32m      3\u001b[0m \u001b[0;31m# index by second\u001b[0m\u001b[0;34m\u001b[0m\u001b[0;34m\u001b[0m\u001b[0;34m\u001b[0m\u001b[0m\n\u001b[1;32m      4\u001b[0m \u001b[0mbitcoin\u001b[0m\u001b[0;34m.\u001b[0m\u001b[0mset_index\u001b[0m\u001b[0;34m(\u001b[0m\u001b[0;34m'Timestamp'\u001b[0m\u001b[0;34m,\u001b[0m \u001b[0minplace\u001b[0m \u001b[0;34m=\u001b[0m \u001b[0;32mTrue\u001b[0m\u001b[0;34m)\u001b[0m\u001b[0;34m\u001b[0m\u001b[0;34m\u001b[0m\u001b[0m\n\u001b[1;32m      5\u001b[0m \u001b[0;31m# aggregate each group of seconds with by day for prediction, month for graphing\u001b[0m\u001b[0;34m\u001b[0m\u001b[0;34m\u001b[0m\u001b[0;34m\u001b[0m\u001b[0m\n",
      "\u001b[0;32m/opt/conda/lib/python3.7/site-packages/pandas/core/frame.py\u001b[0m in \u001b[0;36m__getitem__\u001b[0;34m(self, key)\u001b[0m\n\u001b[1;32m   2993\u001b[0m             \u001b[0;32mif\u001b[0m \u001b[0mself\u001b[0m\u001b[0;34m.\u001b[0m\u001b[0mcolumns\u001b[0m\u001b[0;34m.\u001b[0m\u001b[0mnlevels\u001b[0m \u001b[0;34m>\u001b[0m \u001b[0;36m1\u001b[0m\u001b[0;34m:\u001b[0m\u001b[0;34m\u001b[0m\u001b[0;34m\u001b[0m\u001b[0m\n\u001b[1;32m   2994\u001b[0m                 \u001b[0;32mreturn\u001b[0m \u001b[0mself\u001b[0m\u001b[0;34m.\u001b[0m\u001b[0m_getitem_multilevel\u001b[0m\u001b[0;34m(\u001b[0m\u001b[0mkey\u001b[0m\u001b[0;34m)\u001b[0m\u001b[0;34m\u001b[0m\u001b[0;34m\u001b[0m\u001b[0m\n\u001b[0;32m-> 2995\u001b[0;31m             \u001b[0mindexer\u001b[0m \u001b[0;34m=\u001b[0m \u001b[0mself\u001b[0m\u001b[0;34m.\u001b[0m\u001b[0mcolumns\u001b[0m\u001b[0;34m.\u001b[0m\u001b[0mget_loc\u001b[0m\u001b[0;34m(\u001b[0m\u001b[0mkey\u001b[0m\u001b[0;34m)\u001b[0m\u001b[0;34m\u001b[0m\u001b[0;34m\u001b[0m\u001b[0m\n\u001b[0m\u001b[1;32m   2996\u001b[0m             \u001b[0;32mif\u001b[0m \u001b[0mis_integer\u001b[0m\u001b[0;34m(\u001b[0m\u001b[0mindexer\u001b[0m\u001b[0;34m)\u001b[0m\u001b[0;34m:\u001b[0m\u001b[0;34m\u001b[0m\u001b[0;34m\u001b[0m\u001b[0m\n\u001b[1;32m   2997\u001b[0m                 \u001b[0mindexer\u001b[0m \u001b[0;34m=\u001b[0m \u001b[0;34m[\u001b[0m\u001b[0mindexer\u001b[0m\u001b[0;34m]\u001b[0m\u001b[0;34m\u001b[0m\u001b[0;34m\u001b[0m\u001b[0m\n",
      "\u001b[0;32m/opt/conda/lib/python3.7/site-packages/pandas/core/indexes/base.py\u001b[0m in \u001b[0;36mget_loc\u001b[0;34m(self, key, method, tolerance)\u001b[0m\n\u001b[1;32m   2897\u001b[0m                 \u001b[0;32mreturn\u001b[0m \u001b[0mself\u001b[0m\u001b[0;34m.\u001b[0m\u001b[0m_engine\u001b[0m\u001b[0;34m.\u001b[0m\u001b[0mget_loc\u001b[0m\u001b[0;34m(\u001b[0m\u001b[0mkey\u001b[0m\u001b[0;34m)\u001b[0m\u001b[0;34m\u001b[0m\u001b[0;34m\u001b[0m\u001b[0m\n\u001b[1;32m   2898\u001b[0m             \u001b[0;32mexcept\u001b[0m \u001b[0mKeyError\u001b[0m\u001b[0;34m:\u001b[0m\u001b[0;34m\u001b[0m\u001b[0;34m\u001b[0m\u001b[0m\n\u001b[0;32m-> 2899\u001b[0;31m                 \u001b[0;32mreturn\u001b[0m \u001b[0mself\u001b[0m\u001b[0;34m.\u001b[0m\u001b[0m_engine\u001b[0m\u001b[0;34m.\u001b[0m\u001b[0mget_loc\u001b[0m\u001b[0;34m(\u001b[0m\u001b[0mself\u001b[0m\u001b[0;34m.\u001b[0m\u001b[0m_maybe_cast_indexer\u001b[0m\u001b[0;34m(\u001b[0m\u001b[0mkey\u001b[0m\u001b[0;34m)\u001b[0m\u001b[0;34m)\u001b[0m\u001b[0;34m\u001b[0m\u001b[0;34m\u001b[0m\u001b[0m\n\u001b[0m\u001b[1;32m   2900\u001b[0m         \u001b[0mindexer\u001b[0m \u001b[0;34m=\u001b[0m \u001b[0mself\u001b[0m\u001b[0;34m.\u001b[0m\u001b[0mget_indexer\u001b[0m\u001b[0;34m(\u001b[0m\u001b[0;34m[\u001b[0m\u001b[0mkey\u001b[0m\u001b[0;34m]\u001b[0m\u001b[0;34m,\u001b[0m \u001b[0mmethod\u001b[0m\u001b[0;34m=\u001b[0m\u001b[0mmethod\u001b[0m\u001b[0;34m,\u001b[0m \u001b[0mtolerance\u001b[0m\u001b[0;34m=\u001b[0m\u001b[0mtolerance\u001b[0m\u001b[0;34m)\u001b[0m\u001b[0;34m\u001b[0m\u001b[0;34m\u001b[0m\u001b[0m\n\u001b[1;32m   2901\u001b[0m         \u001b[0;32mif\u001b[0m \u001b[0mindexer\u001b[0m\u001b[0;34m.\u001b[0m\u001b[0mndim\u001b[0m \u001b[0;34m>\u001b[0m \u001b[0;36m1\u001b[0m \u001b[0;32mor\u001b[0m \u001b[0mindexer\u001b[0m\u001b[0;34m.\u001b[0m\u001b[0msize\u001b[0m \u001b[0;34m>\u001b[0m \u001b[0;36m1\u001b[0m\u001b[0;34m:\u001b[0m\u001b[0;34m\u001b[0m\u001b[0;34m\u001b[0m\u001b[0m\n",
      "\u001b[0;32mpandas/_libs/index.pyx\u001b[0m in \u001b[0;36mpandas._libs.index.IndexEngine.get_loc\u001b[0;34m()\u001b[0m\n",
      "\u001b[0;32mpandas/_libs/index.pyx\u001b[0m in \u001b[0;36mpandas._libs.index.IndexEngine.get_loc\u001b[0;34m()\u001b[0m\n",
      "\u001b[0;32mpandas/_libs/hashtable_class_helper.pxi\u001b[0m in \u001b[0;36mpandas._libs.hashtable.PyObjectHashTable.get_item\u001b[0;34m()\u001b[0m\n",
      "\u001b[0;32mpandas/_libs/hashtable_class_helper.pxi\u001b[0m in \u001b[0;36mpandas._libs.hashtable.PyObjectHashTable.get_item\u001b[0;34m()\u001b[0m\n",
      "\u001b[0;31mKeyError\u001b[0m: 'Timestamp'"
     ]
    }
   ],
   "source": [
    "# convert the timestamp variable to a datetime object\n",
    "bitcoin['Timestamp']=pd.to_datetime(bitcoin['Timestamp'],unit='s')\n",
    "# index by second\n",
    "bitcoin.set_index('Timestamp', inplace = True)\n",
    "# aggregate each group of seconds with by day for prediction, month for graphing\n",
    "bitcoin_daily = bitcoin.resample('1D').mean()\n",
    "bitcoin_monthly = bitcoin.resample('1M').mean()"
   ]
  },
  {
   "cell_type": "code",
   "execution_count": null,
   "metadata": {},
   "outputs": [],
   "source": [
    "bitcoin_daily"
   ]
  },
  {
   "cell_type": "code",
   "execution_count": null,
   "metadata": {},
   "outputs": [],
   "source": [
    "bitcoin_monthly"
   ]
  },
  {
   "cell_type": "code",
   "execution_count": 29,
   "metadata": {},
   "outputs": [
    {
     "data": {
      "text/html": [
       "\n",
       "<div id=\"altair-viz-1a2c97b5fe8446a595bfbcb24246291b\"></div>\n",
       "<script type=\"text/javascript\">\n",
       "  (function(spec, embedOpt){\n",
       "    let outputDiv = document.currentScript.previousElementSibling;\n",
       "    if (outputDiv.id !== \"altair-viz-1a2c97b5fe8446a595bfbcb24246291b\") {\n",
       "      outputDiv = document.getElementById(\"altair-viz-1a2c97b5fe8446a595bfbcb24246291b\");\n",
       "    }\n",
       "    const paths = {\n",
       "      \"vega\": \"https://cdn.jsdelivr.net/npm//vega@5?noext\",\n",
       "      \"vega-lib\": \"https://cdn.jsdelivr.net/npm//vega-lib?noext\",\n",
       "      \"vega-lite\": \"https://cdn.jsdelivr.net/npm//vega-lite@4.8.1?noext\",\n",
       "      \"vega-embed\": \"https://cdn.jsdelivr.net/npm//vega-embed@6?noext\",\n",
       "    };\n",
       "\n",
       "    function loadScript(lib) {\n",
       "      return new Promise(function(resolve, reject) {\n",
       "        var s = document.createElement('script');\n",
       "        s.src = paths[lib];\n",
       "        s.async = true;\n",
       "        s.onload = () => resolve(paths[lib]);\n",
       "        s.onerror = () => reject(`Error loading script: ${paths[lib]}`);\n",
       "        document.getElementsByTagName(\"head\")[0].appendChild(s);\n",
       "      });\n",
       "    }\n",
       "\n",
       "    function showError(err) {\n",
       "      outputDiv.innerHTML = `<div class=\"error\" style=\"color:red;\">${err}</div>`;\n",
       "      throw err;\n",
       "    }\n",
       "\n",
       "    function displayChart(vegaEmbed) {\n",
       "      vegaEmbed(outputDiv, spec, embedOpt)\n",
       "        .catch(err => showError(`Javascript Error: ${err.message}<br>This usually means there's a typo in your chart specification. See the javascript console for the full traceback.`));\n",
       "    }\n",
       "\n",
       "    if(typeof define === \"function\" && define.amd) {\n",
       "      requirejs.config({paths});\n",
       "      require([\"vega-embed\"], displayChart, err => showError(`Error loading script: ${err.message}`));\n",
       "    } else if (typeof vegaEmbed === \"function\") {\n",
       "      displayChart(vegaEmbed);\n",
       "    } else {\n",
       "      loadScript(\"vega\")\n",
       "        .then(() => loadScript(\"vega-lite\"))\n",
       "        .then(() => loadScript(\"vega-embed\"))\n",
       "        .catch(showError)\n",
       "        .then(() => displayChart(vegaEmbed));\n",
       "    }\n",
       "  })({\"config\": {\"view\": {\"continuousWidth\": 400, \"continuousHeight\": 300}, \"title\": {\"anchor\": \"start\", \"color\": \"gray\", \"font\": \"Courier\", \"fontSize\": 20}}, \"data\": {\"name\": \"data-a0dc512967df2e1c473f1546d109fd97\"}, \"mark\": \"line\", \"encoding\": {\"color\": {\"value\": \"orange\"}, \"x\": {\"type\": \"temporal\", \"field\": \"Month\", \"title\": \"Year\"}, \"y\": {\"type\": \"quantitative\", \"axis\": {\"title\": \"Closing Price (USD)\"}, \"field\": \"Close\"}}, \"title\": \"Bitcoin Historical Price\", \"$schema\": \"https://vega.github.io/schema/vega-lite/v4.8.1.json\", \"datasets\": {\"data-a0dc512967df2e1c473f1546d109fd97\": [{\"Open\": 4.465, \"High\": 4.4825, \"Low\": 4.465, \"Close\": 4.4825, \"Volume_(BTC)\": 23.829469525, \"Volume_(Currency)\": 106.330084387325, \"Weighted_Price\": 4.471602874575, \"Month\": \"2011-12-31T00:00:00\"}, {\"Open\": 6.345389221556889, \"High\": 6.348982035928146, \"Low\": 6.341217564870262, \"Close\": 6.346147704590821, \"Volume_(BTC)\": 4.03177731714571, \"Volume_(Currency)\": 25.168237754670862, \"Weighted_Price\": 6.34595483543593, \"Month\": \"2012-01-31T00:00:00\"}, {\"Open\": 5.230207972270368, \"High\": 5.231646447140386, \"Low\": 5.22703639514732, \"Close\": 5.2285095320623975, \"Volume_(BTC)\": 8.313992791715775, \"Volume_(Currency)\": 42.23942217751114, \"Weighted_Price\": 5.228442980973837, \"Month\": \"2012-02-29T00:00:00\"}, {\"Open\": 4.985480607082628, \"High\": 4.986694772344009, \"Low\": 4.982580101180436, \"Close\": 4.983827993254634, \"Volume_(BTC)\": 15.19779132870153, \"Volume_(Currency)\": 76.50975121753513, \"Weighted_Price\": 4.984397360075208, \"Month\": \"2012-03-31T00:00:00\"}, {\"Open\": 4.995171052631586, \"High\": 4.99644736842106, \"Low\": 4.993763157894745, \"Close\": 4.995078947368429, \"Volume_(BTC)\": 21.68391320646053, \"Volume_(Currency)\": 108.21809393267083, \"Weighted_Price\": 4.995090718708689, \"Month\": \"2012-04-30T00:00:00\"}, {\"Open\": 5.047043378995466, \"High\": 5.04754566210049, \"Low\": 5.046152968036564, \"Close\": 5.046621004566245, \"Volume_(BTC)\": 21.529878026232875, \"Volume_(Currency)\": 108.66012619086095, \"Weighted_Price\": 5.046847559921378, \"Month\": \"2012-05-31T00:00:00\"}, {\"Open\": 6.047032803180926, \"High\": 6.048797216699814, \"Low\": 6.0455019880715835, \"Close\": 6.047246520874766, \"Volume_(BTC)\": 31.504423573146152, \"Volume_(Currency)\": 194.14263212498167, \"Weighted_Price\": 6.047197571831972, \"Month\": \"2012-06-30T00:00:00\"}, {\"Open\": 7.907075840500429, \"High\": 7.910543393276032, \"Low\": 7.904319781079006, \"Close\": 7.90783033620019, \"Volume_(BTC)\": 19.821775148064948, \"Volume_(Currency)\": 155.65068726071047, \"Weighted_Price\": 7.907613306313166, \"Month\": \"2012-07-31T00:00:00\"}, {\"Open\": 10.98603295310523, \"High\": 10.992456273764297, \"Low\": 10.976894803548818, \"Close\": 10.982978453738928, \"Volume_(BTC)\": 21.108184189797193, \"Volume_(Currency)\": 227.6226356290896, \"Weighted_Price\": 10.984669770420167, \"Month\": \"2012-08-31T00:00:00\"}, {\"Open\": 11.435404989220842, \"High\": 11.438013550970146, \"Low\": 11.43296889436405, \"Close\": 11.435571296581482, \"Volume_(BTC)\": 17.130909963664912, \"Volume_(Currency)\": 194.672214476492, \"Weighted_Price\": 11.435691845594377, \"Month\": \"2012-09-30T00:00:00\"}, {\"Open\": 11.586510835159528, \"High\": 11.589605551497502, \"Low\": 11.58324811297788, \"Close\": 11.586396396396452, \"Volume_(BTC)\": 20.39613620802532, \"Volume_(Currency)\": 237.98666342075015, \"Weighted_Price\": 11.586088544128357, \"Month\": \"2012-10-31T00:00:00\"}, {\"Open\": 11.308801975052022, \"High\": 11.310579521829554, \"Low\": 11.30617463617468, \"Close\": 11.30781704781708, \"Volume_(BTC)\": 22.994332247489584, \"Volume_(Currency)\": 261.707026641488, \"Weighted_Price\": 11.307918536370346, \"Month\": \"2012-11-30T00:00:00\"}, {\"Open\": 13.168332871012549, \"High\": 13.170319001387046, \"Low\": 13.165955617198403, \"Close\": 13.167916782246968, \"Volume_(BTC)\": 25.393411928884916, \"Volume_(Currency)\": 333.346800333672, \"Weighted_Price\": 13.167810684764293, \"Month\": \"2012-12-31T00:00:00\"}, {\"Open\": 15.806992776057783, \"High\": 15.810590299277592, \"Low\": 15.803409700722392, \"Close\": 15.807077399380795, \"Volume_(BTC)\": 25.635317766965905, \"Volume_(Currency)\": 405.9335058568442, \"Weighted_Price\": 15.80688958842458, \"Month\": \"2013-01-31T00:00:00\"}, {\"Open\": 26.805556596409055, \"High\": 26.811743950039045, \"Low\": 26.79841998438718, \"Close\": 26.805075722092102, \"Volume_(BTC)\": 19.510575638143607, \"Volume_(Currency)\": 506.7984379270224, \"Weighted_Price\": 26.805143085886172, \"Month\": \"2013-02-28T00:00:00\"}, {\"Open\": 60.4969514275121, \"High\": 60.540215053763426, \"Low\": 60.45705302187628, \"Close\": 60.49874230626626, \"Volume_(BTC)\": 13.141914549010009, \"Volume_(Currency)\": 766.3303414954206, \"Weighted_Price\": 60.49568098476899, \"Month\": \"2013-03-31T00:00:00\"}, {\"Open\": 127.50160259813511, \"High\": 127.73003840989591, \"Low\": 127.22395059800874, \"Close\": 127.48632170627585, \"Volume_(BTC)\": 13.728768736606565, \"Volume_(Currency)\": 1613.4029736247955, \"Weighted_Price\": 127.48148456031987, \"Month\": \"2013-04-30T00:00:00\"}, {\"Open\": 117.82081356476668, \"High\": 117.89293305876261, \"Low\": 117.67702735952889, \"Close\": 117.75936508785935, \"Volume_(BTC)\": 8.001641648881225, \"Volume_(Currency)\": 916.1201624876581, \"Weighted_Price\": 117.7802933691845, \"Month\": \"2013-05-31T00:00:00\"}, {\"Open\": 106.51792094220474, \"High\": 106.6258454106278, \"Low\": 106.42672555449694, \"Close\": 106.53911844564324, \"Volume_(BTC)\": 8.802936064237473, \"Volume_(Currency)\": 922.5593680791335, \"Weighted_Price\": 106.52548150961317, \"Month\": \"2013-06-30T00:00:00\"}, {\"Open\": 85.32931686829001, \"High\": 85.40144810998888, \"Low\": 85.25209677998215, \"Close\": 85.3311472879337, \"Volume_(BTC)\": 15.083843922778483, \"Volume_(Currency)\": 1264.064189668037, \"Weighted_Price\": 85.32609283353034, \"Month\": \"2013-07-31T00:00:00\"}, {\"Open\": 104.5986510114475, \"High\": 104.64075192096612, \"Low\": 104.55717225968348, \"Close\": 104.60344519366474, \"Volume_(BTC)\": 13.051274801860673, \"Volume_(Currency)\": 1380.7304216889947, \"Weighted_Price\": 104.60029150382923, \"Month\": \"2013-08-31T00:00:00\"}, {\"Open\": 124.97018912529482, \"High\": 125.02702386229271, \"Low\": 124.90782801418408, \"Close\": 124.97493461879381, \"Volume_(BTC)\": 11.753655567109227, \"Volume_(Currency)\": 1461.3163973615606, \"Weighted_Price\": 124.96623962639907, \"Month\": \"2013-09-30T00:00:00\"}, {\"Open\": 153.71544362673447, \"High\": 153.81612775979463, \"Low\": 153.60503090963084, \"Close\": 153.7110400353314, \"Volume_(BTC)\": 18.445596702925172, \"Volume_(Currency)\": 2886.6449806595087, \"Weighted_Price\": 153.7067767692847, \"Month\": \"2013-10-31T00:00:00\"}, {\"Open\": 533.0523557692325, \"High\": 533.8473098776243, \"Low\": 532.0773191045084, \"Close\": 532.9823674242424, \"Volume_(BTC)\": 23.455393200908777, \"Volume_(Currency)\": 12014.984074254478, \"Weighted_Price\": 532.941844421203, \"Month\": \"2013-11-30T00:00:00\"}, {\"Open\": 795.2759289040288, \"High\": 796.8657224808796, \"Low\": 793.5959085017695, \"Close\": 795.2622233690062, \"Volume_(BTC)\": 22.86041625458373, \"Volume_(Currency)\": 17298.000999379943, \"Weighted_Price\": 795.1462589620049, \"Month\": \"2013-12-31T00:00:00\"}, {\"Open\": 820.1195699976621, \"High\": 820.8576808197985, \"Low\": 819.3558524087816, \"Close\": 820.1373821355704, \"Volume_(BTC)\": 11.431465917756713, \"Volume_(Currency)\": 9417.620445217097, \"Weighted_Price\": 820.0977757781333, \"Month\": \"2014-01-31T00:00:00\"}, {\"Open\": 657.543798736096, \"High\": 658.3622939118493, \"Low\": 656.7127122947583, \"Close\": 657.5771043276999, \"Volume_(BTC)\": 23.299011610773935, \"Volume_(Currency)\": 14359.527607334714, \"Weighted_Price\": 657.5120464293102, \"Month\": \"2014-02-28T00:00:00\"}, {\"Open\": 591.5061823176294, \"High\": 592.1036724059833, \"Low\": 590.9021757476243, \"Close\": 591.5167945740831, \"Volume_(BTC)\": 13.977188748209556, \"Volume_(Currency)\": 8136.8355662481845, \"Weighted_Price\": 591.4750083825321, \"Month\": \"2014-03-31T00:00:00\"}, {\"Open\": 461.2999533625655, \"High\": 461.864858066737, \"Low\": 460.74533625594535, \"Close\": 461.30911575413575, \"Volume_(BTC)\": 16.040932947510655, \"Volume_(Currency)\": 7287.188580681591, \"Weighted_Price\": 461.2922036525254, \"Month\": \"2014-04-30T00:00:00\"}, {\"Open\": 490.37069655987733, \"High\": 490.76310169381856, \"Low\": 489.98768185399257, \"Close\": 490.3917381171318, \"Volume_(BTC)\": 9.89842420056817, \"Volume_(Currency)\": 5005.740354513964, \"Weighted_Price\": 490.38954887380476, \"Month\": \"2014-05-31T00:00:00\"}, {\"Open\": 613.7328690555973, \"High\": 614.1883436034916, \"Low\": 613.2168459477596, \"Close\": 613.7022973878161, \"Volume_(BTC)\": 9.702554803075518, \"Volume_(Currency)\": 5962.153238700993, \"Weighted_Price\": 613.7050891391739, \"Month\": \"2014-06-30T00:00:00\"}, {\"Open\": 617.8037971268312, \"High\": 618.1017333916898, \"Low\": 617.4931663385236, \"Close\": 617.8128265149992, \"Volume_(BTC)\": 5.853463418674179, \"Volume_(Currency)\": 3594.1327929651707, \"Weighted_Price\": 617.7769044009967, \"Month\": \"2014-07-31T00:00:00\"}, {\"Open\": 532.9824833328261, \"High\": 533.288696985841, \"Low\": 532.6740229741256, \"Close\": 532.988742683667, \"Volume_(BTC)\": 9.86286055205581, \"Volume_(Currency)\": 5139.997679731446, \"Weighted_Price\": 532.9584017279093, \"Month\": \"2014-08-31T00:00:00\"}, {\"Open\": 442.952316021193, \"High\": 443.2055508953726, \"Low\": 442.6834781962117, \"Close\": 442.9425786781004, \"Volume_(BTC)\": 10.265485168734626, \"Volume_(Currency)\": 4424.314710096482, \"Weighted_Price\": 442.92657766841666, \"Month\": \"2014-09-30T00:00:00\"}, {\"Open\": 362.72892958983334, \"High\": 363.02245832420806, \"Low\": 362.4174473568839, \"Close\": 362.7267204979249, \"Volume_(BTC)\": 16.380524566873653, \"Volume_(Currency)\": 5793.057807715897, \"Weighted_Price\": 362.71021397612685, \"Month\": \"2014-10-31T00:00:00\"}, {\"Open\": 367.49531456213106, \"High\": 367.7578158311316, \"Low\": 367.2168149652159, \"Close\": 367.49433758323886, \"Volume_(BTC)\": 13.125273572791555, \"Volume_(Currency)\": 4929.185117933638, \"Weighted_Price\": 367.47841784237636, \"Month\": \"2014-11-30T00:00:00\"}, {\"Open\": 342.3233194520021, \"High\": 342.5120094755404, \"Low\": 342.1163896433199, \"Close\": 342.31585822923427, \"Volume_(BTC)\": 8.927907845143137, \"Volume_(Currency)\": 3030.5838567044934, \"Weighted_Price\": 342.30694244058134, \"Month\": \"2014-12-31T00:00:00\"}, {\"Open\": 243.50948394058992, \"High\": 243.78570839152766, \"Low\": 243.22059096102646, \"Close\": 243.51123651136686, \"Volume_(BTC)\": 24.96619127615837, \"Volume_(Currency)\": 5847.178839380249, \"Weighted_Price\": 243.4967625333533, \"Month\": \"2015-01-31T00:00:00\"}, {\"Open\": 233.65390241328683, \"High\": 233.7908471118038, \"Low\": 233.50790403152246, \"Close\": 233.66530218814086, \"Volume_(BTC)\": 12.095179597807542, \"Volume_(Currency)\": 2832.800394981839, \"Weighted_Price\": 233.6478401402434, \"Month\": \"2015-02-28T00:00:00\"}, {\"Open\": 268.1631831977311, \"High\": 268.27512010849017, \"Low\": 268.0370621852023, \"Close\": 268.16435231822663, \"Volume_(BTC)\": 9.621013826098363, \"Volume_(Currency)\": 2572.466269782457, \"Weighted_Price\": 268.14881471683407, \"Month\": \"2015-03-31T00:00:00\"}, {\"Open\": 233.53058357816744, \"High\": 233.60829998453858, \"Low\": 233.4498286686257, \"Close\": 233.5287811968464, \"Volume_(BTC)\": 7.920318832869392, \"Volume_(Currency)\": 1841.2736764804679, \"Weighted_Price\": 233.52432605964782, \"Month\": \"2015-04-30T00:00:00\"}, {\"Open\": 236.48059837145814, \"High\": 236.5597124708606, \"Low\": 236.39439064770076, \"Close\": 236.47358144406613, \"Volume_(BTC)\": 6.745526151124772, \"Volume_(Currency)\": 1595.8008075205757, \"Weighted_Price\": 236.47091661425975, \"Month\": \"2015-05-31T00:00:00\"}, {\"Open\": 237.7272595405, \"High\": 237.7899013499517, \"Low\": 237.6517111240916, \"Close\": 237.72171761422848, \"Volume_(BTC)\": 7.560888668291202, \"Volume_(Currency)\": 1813.3891073747022, \"Weighted_Price\": 237.7204481436872, \"Month\": \"2015-06-30T00:00:00\"}, {\"Open\": 279.08134821896346, \"High\": 279.1651722105813, \"Low\": 278.99323271346236, \"Close\": 279.0814998035604, \"Volume_(BTC)\": 12.993149730935462, \"Volume_(Currency)\": 3642.734882558207, \"Weighted_Price\": 279.07671664577646, \"Month\": \"2015-07-31T00:00:00\"}, {\"Open\": 250.83236979875002, \"High\": 250.91315168616015, \"Low\": 250.73744526788136, \"Close\": 250.82644377209726, \"Volume_(BTC)\": 14.239493451551255, \"Volume_(Currency)\": 3427.085318554965, \"Weighted_Price\": 250.82073144373106, \"Month\": \"2015-08-31T00:00:00\"}, {\"Open\": 233.6242491720107, \"High\": 233.73196885350137, \"Low\": 233.49161651750768, \"Close\": 233.61400077513883, \"Volume_(BTC)\": 20.06668227939124, \"Volume_(Currency)\": 4690.689937996054, \"Weighted_Price\": 233.60724330606658, \"Month\": \"2015-09-30T00:00:00\"}, {\"Open\": 267.97437319653875, \"High\": 268.10412792562147, \"Low\": 267.8166729721069, \"Close\": 267.9669579993625, \"Volume_(BTC)\": 22.969365285195718, \"Volume_(Currency)\": 6194.430132586656, \"Weighted_Price\": 267.9547618267851, \"Month\": \"2015-10-31T00:00:00\"}, {\"Open\": 350.3886962560061, \"High\": 350.71684393264906, \"Low\": 350.0234002661875, \"Close\": 350.38048752966006, \"Volume_(BTC)\": 25.682074137107072, \"Volume_(Currency)\": 9351.523365797531, \"Weighted_Price\": 350.3635929094729, \"Month\": \"2015-11-30T00:00:00\"}, {\"Open\": 422.10938205620215, \"High\": 422.3064338182868, \"Low\": 421.89476348358704, \"Close\": 422.1122905650739, \"Volume_(BTC)\": 11.97093765010212, \"Volume_(Currency)\": 5051.718815321565, \"Weighted_Price\": 422.09076362758833, \"Month\": \"2015-12-31T00:00:00\"}, {\"Open\": 410.2467911562618, \"High\": 410.40415416791785, \"Low\": 410.04608993128153, \"Close\": 410.23822617269747, \"Volume_(BTC)\": 8.648417569798296, \"Volume_(Currency)\": 3503.1802251701106, \"Weighted_Price\": 410.2162910103271, \"Month\": \"2016-01-31T00:00:00\"}, {\"Open\": 401.7512188090749, \"High\": 401.87531951698173, \"Low\": 401.59911720427795, \"Close\": 401.75825939333527, \"Volume_(BTC)\": 6.932022125881639, \"Volume_(Currency)\": 2792.6080006170628, \"Weighted_Price\": 401.7323196159571, \"Month\": \"2016-02-29T00:00:00\"}, {\"Open\": 415.15146089552536, \"High\": 415.2657223880691, \"Low\": 415.02083940298616, \"Close\": 415.15666089552803, \"Volume_(BTC)\": 4.6650504294477235, \"Volume_(Currency)\": 1931.2385937162203, \"Weighted_Price\": 415.13654173449174, \"Month\": \"2016-03-31T00:00:00\"}, {\"Open\": 431.3177017554401, \"High\": 431.4276124857792, \"Low\": 431.2080249835267, \"Close\": 431.32457402193364, \"Volume_(BTC)\": 3.6413705962881355, \"Volume_(Currency)\": 1589.5253933366598, \"Weighted_Price\": 431.31544374186444, \"Month\": \"2016-04-30T00:00:00\"}, {\"Open\": 462.1017503889804, \"High\": 462.2604371341839, \"Low\": 461.9184503963889, \"Close\": 462.1059713269674, \"Volume_(BTC)\": 5.078350332000072, \"Volume_(Currency)\": 2391.620532447654, \"Weighted_Price\": 462.08812300659196, \"Month\": \"2016-05-31T00:00:00\"}, {\"Open\": 642.7787141061572, \"High\": 643.1780502110934, \"Low\": 642.3112684907633, \"Close\": 642.7665135840674, \"Volume_(BTC)\": 9.205655461778758, \"Volume_(Currency)\": 5981.25223757497, \"Weighted_Price\": 642.7392999620101, \"Month\": \"2016-06-30T00:00:00\"}, {\"Open\": 660.4545906561602, \"High\": 660.7186696825477, \"Low\": 660.1854629889162, \"Close\": 660.456938228123, \"Volume_(BTC)\": 4.758176893472882, \"Volume_(Currency)\": 3134.237534755401, \"Weighted_Price\": 660.4394318691967, \"Month\": \"2016-07-31T00:00:00\"}, {\"Open\": 578.0711851400399, \"High\": 578.2990902571248, \"Low\": 577.8362577545133, \"Close\": 578.0730067773627, \"Volume_(BTC)\": 5.285989208830323, \"Volume_(Currency)\": 3016.663524419478, \"Weighted_Price\": 578.062420793102, \"Month\": \"2016-08-31T00:00:00\"}, {\"Open\": 603.0950833525413, \"High\": 603.27388376739, \"Low\": 602.9068740877308, \"Close\": 603.0891365137933, \"Volume_(BTC)\": 3.512840968655603, \"Volume_(Currency)\": 2116.6844476449137, \"Weighted_Price\": 603.0903280430373, \"Month\": \"2016-09-30T00:00:00\"}, {\"Open\": 641.0492176988628, \"High\": 641.1846788144613, \"Low\": 640.8917702687297, \"Close\": 641.0479191173831, \"Volume_(BTC)\": 3.886826513461701, \"Volume_(Currency)\": 2509.450981757759, \"Weighted_Price\": 641.0369158535833, \"Month\": \"2016-10-31T00:00:00\"}, {\"Open\": 723.2019169517123, \"High\": 723.3726161315278, \"Low\": 723.0097123836854, \"Close\": 723.1959056971616, \"Volume_(BTC)\": 5.6757736277899244, \"Volume_(Currency)\": 4100.142054472632, \"Weighted_Price\": 723.1940338336148, \"Month\": \"2016-11-30T00:00:00\"}, {\"Open\": 826.7151175870825, \"High\": 826.8822583297749, \"Low\": 826.5274624214686, \"Close\": 826.7129447751868, \"Volume_(BTC)\": 5.679777286043488, \"Volume_(Currency)\": 4796.945275143128, \"Weighted_Price\": 826.6988332431816, \"Month\": \"2016-12-31T00:00:00\"}, {\"Open\": 908.1936850319008, \"High\": 908.6253928043817, \"Low\": 907.7220591923683, \"Close\": 908.1762082323023, \"Volume_(BTC)\": 9.348804756223664, \"Volume_(Currency)\": 8508.768809421237, \"Weighted_Price\": 908.1518059345642, \"Month\": \"2017-01-31T00:00:00\"}, {\"Open\": 1060.632649402389, \"High\": 1061.059376462389, \"Low\": 1060.2626788085809, \"Close\": 1060.6977657623377, \"Volume_(BTC)\": 6.62967843001425, \"Volume_(Currency)\": 7046.62981759785, \"Weighted_Price\": 1060.6621871995576, \"Month\": \"2017-02-28T00:00:00\"}, {\"Open\": 1128.9686608622308, \"High\": 1129.6259034116122, \"Low\": 1128.3366212483936, \"Close\": 1129.0362464160742, \"Volume_(BTC)\": 8.468866447160776, \"Volume_(Currency)\": 9381.310809819048, \"Weighted_Price\": 1128.963271407873, \"Month\": \"2017-03-31T00:00:00\"}, {\"Open\": 1208.963411036958, \"High\": 1209.4533225464393, \"Low\": 1208.5559649474335, \"Close\": 1209.0672175606146, \"Volume_(BTC)\": 4.654838158170615, \"Volume_(Currency)\": 5602.185154677719, \"Weighted_Price\": 1208.9928610328936, \"Month\": \"2017-04-30T00:00:00\"}, {\"Open\": 1885.355156180122, \"High\": 1887.173292375758, \"Low\": 1883.344176964907, \"Close\": 1885.304481321928, \"Volume_(BTC)\": 10.931163460997142, \"Volume_(Currency)\": 21253.43169312173, \"Weighted_Price\": 1885.1901248628317, \"Month\": \"2017-05-31T00:00:00\"}, {\"Open\": 2619.4091930254026, \"High\": 2621.380814900149, \"Low\": 2617.1068249393843, \"Close\": 2619.2738696351557, \"Volume_(BTC)\": 10.751531703734356, \"Volume_(Currency)\": 27862.824521162056, \"Weighted_Price\": 2619.1944318533615, \"Month\": \"2017-06-30T00:00:00\"}, {\"Open\": 2491.415355390957, \"High\": 2493.3444130269845, \"Low\": 2489.259073672318, \"Close\": 2491.41116474859, \"Volume_(BTC)\": 10.432054173880415, \"Volume_(Currency)\": 25556.28132562779, \"Weighted_Price\": 2491.2714880921476, \"Month\": \"2017-07-31T00:00:00\"}, {\"Open\": 3835.0166988202723, \"High\": 3837.9748521860083, \"Low\": 3831.3514341892364, \"Close\": 3834.9669664585044, \"Volume_(BTC)\": 8.684880075589284, \"Volume_(Currency)\": 33322.413117762895, \"Weighted_Price\": 3834.6736399730357, \"Month\": \"2017-08-31T00:00:00\"}, {\"Open\": 4086.2418531014796, \"High\": 4089.933736403691, \"Low\": 4081.774973220387, \"Close\": 4086.0341979095147, \"Volume_(BTC)\": 12.210775959106755, \"Volume_(Currency)\": 48592.8533987081, \"Weighted_Price\": 4085.7518285531496, \"Month\": \"2017-09-30T00:00:00\"}, {\"Open\": 5294.311245845696, \"High\": 5297.398746538078, \"Low\": 5290.311303314284, \"Close\": 5294.228903711279, \"Volume_(BTC)\": 8.62190985005883, \"Volume_(Currency)\": 46403.84517137931, \"Weighted_Price\": 5293.800260907698, \"Month\": \"2017-10-31T00:00:00\"}, {\"Open\": 7755.550158689541, \"High\": 7762.021795290833, \"Low\": 7747.502935987387, \"Close\": 7755.19647732853, \"Volume_(BTC)\": 11.341778934985879, \"Volume_(Currency)\": 87153.97192243912, \"Weighted_Price\": 7754.6252293078915, \"Month\": \"2017-11-30T00:00:00\"}, {\"Open\": 14843.232528101502, \"High\": 14865.433509232655, \"Low\": 14815.368544793402, \"Close\": 14843.091402705872, \"Volume_(BTC)\": 12.612500696552368, \"Volume_(Currency)\": 186295.8333521169, \"Weighted_Price\": 14840.89423902525, \"Month\": \"2017-12-31T00:00:00\"}, {\"Open\": 12895.973495453485, \"High\": 12914.741011115157, \"Low\": 12875.593822162466, \"Close\": 12895.732756708498, \"Volume_(BTC)\": 10.443675813800903, \"Volume_(Currency)\": 131152.66795746566, \"Weighted_Price\": 12894.950040362268, \"Month\": \"2018-01-31T00:00:00\"}, {\"Open\": 9390.398138015493, \"High\": 9402.29885070362, \"Low\": 9377.694810894238, \"Close\": 9390.244611600177, \"Volume_(BTC)\": 14.402147742312653, \"Volume_(Currency)\": 128209.22525955681, \"Weighted_Price\": 9389.696046105431, \"Month\": \"2018-02-28T00:00:00\"}, {\"Open\": 9023.841488772097, \"High\": 9032.070280032842, \"Low\": 9015.619508252346, \"Close\": 9023.793504915482, \"Volume_(BTC)\": 10.777021769668782, \"Volume_(Currency)\": 94971.64873657773, \"Weighted_Price\": 9023.731019708977, \"Month\": \"2018-03-31T00:00:00\"}, {\"Open\": 7985.453256650067, \"High\": 7990.866722710829, \"Low\": 7979.5039665127415, \"Close\": 7985.377361842402, \"Volume_(BTC)\": 8.877617961374714, \"Volume_(Currency)\": 72156.4186175712, \"Weighted_Price\": 7985.222523823854, \"Month\": \"2018-04-30T00:00:00\"}, {\"Open\": 8440.219796317713, \"High\": 8445.521013699032, \"Low\": 8434.122790478437, \"Close\": 8440.146665394434, \"Volume_(BTC)\": 7.081113509393229, \"Volume_(Currency)\": 60157.33164899054, \"Weighted_Price\": 8439.758860433258, \"Month\": \"2018-05-31T00:00:00\"}, {\"Open\": 6783.837200999075, \"High\": 6787.363525238822, \"Low\": 6779.594208303162, \"Close\": 6783.7888635038225, \"Volume_(BTC)\": 5.710364588645989, \"Volume_(Currency)\": 38058.525692684896, \"Weighted_Price\": 6783.390080432459, \"Month\": \"2018-06-30T00:00:00\"}, {\"Open\": 7096.877332564154, \"High\": 7100.177592630591, \"Low\": 7093.377836400384, \"Close\": 7096.924934474349, \"Volume_(BTC)\": 5.500254688873721, \"Volume_(Currency)\": 39781.00901723184, \"Weighted_Price\": 7096.708054606205, \"Month\": \"2018-07-31T00:00:00\"}, {\"Open\": 6693.405632493922, \"High\": 6696.159097035303, \"Low\": 6690.450581606234, \"Close\": 6693.363633005112, \"Volume_(BTC)\": 5.575129577923558, \"Volume_(Currency)\": 37115.98888326184, \"Weighted_Price\": 6693.230559927961, \"Month\": \"2018-08-31T00:00:00\"}, {\"Open\": 6587.025250774213, \"High\": 6589.068112594618, \"Low\": 6584.97075942941, \"Close\": 6587.151907203449, \"Volume_(BTC)\": 4.112202020944691, \"Volume_(Currency)\": 27031.514451636045, \"Weighted_Price\": 6586.987311222546, \"Month\": \"2018-09-30T00:00:00\"}, {\"Open\": 6416.724877341814, \"High\": 6417.847548944695, \"Low\": 6415.635141102974, \"Close\": 6416.8014118205365, \"Volume_(BTC)\": 3.10641333322177, \"Volume_(Currency)\": 19923.50770754505, \"Weighted_Price\": 6416.713229952524, \"Month\": \"2018-10-31T00:00:00\"}, {\"Open\": 5321.325059853478, \"High\": 5323.966080042918, \"Low\": 5318.737576763025, \"Close\": 5321.4200043390365, \"Volume_(BTC)\": 8.797702086519074, \"Volume_(Currency)\": 41311.230738140664, \"Weighted_Price\": 5321.281996677438, \"Month\": \"2018-11-30T00:00:00\"}, {\"Open\": 3672.509847630691, \"High\": 3674.79643465338, \"Low\": 3670.2654959077163, \"Close\": 3672.573776918156, \"Volume_(BTC)\": 8.474854351878502, \"Volume_(Currency)\": 31100.675208777928, \"Weighted_Price\": 3672.419305691002, \"Month\": \"2018-12-31T00:00:00\"}, {\"Open\": 3659.472359872463, \"High\": 3660.6507951771055, \"Low\": 3658.390447411688, \"Close\": 3659.5779654725575, \"Volume_(BTC)\": 5.142876872098554, \"Volume_(Currency)\": 18878.292239829614, \"Weighted_Price\": 3659.467919257481, \"Month\": \"2019-01-31T00:00:00\"}, {\"Open\": 3653.627008641655, \"High\": 3654.620805833109, \"Low\": 3652.7109516608316, \"Close\": 3653.709666756688, \"Volume_(BTC)\": 5.494793937757789, \"Volume_(Currency)\": 20299.44611185529, \"Weighted_Price\": 3653.638676543305, \"Month\": \"2019-02-28T00:00:00\"}, {\"Open\": 3919.378973265992, \"High\": 3920.1115835899864, \"Low\": 3918.656991252948, \"Close\": 3919.41309794261, \"Volume_(BTC)\": 4.034112666924974, \"Volume_(Currency)\": 15786.870156427165, \"Weighted_Price\": 3919.370871566846, \"Month\": \"2019-03-31T00:00:00\"}, {\"Open\": 5139.134394382233, \"High\": 5141.188683728948, \"Low\": 5137.045939497671, \"Close\": 5139.195171455037, \"Volume_(BTC)\": 7.009112903922686, \"Volume_(Currency)\": 35751.977100804565, \"Weighted_Price\": 5139.1121450268665, \"Month\": \"2019-04-30T00:00:00\"}, {\"Open\": 7234.354588171801, \"High\": 7239.740914123723, \"Low\": 7228.710882392645, \"Close\": 7234.086416869223, \"Volume_(BTC)\": 8.331578690639343, \"Volume_(Currency)\": 61233.73656395054, \"Weighted_Price\": 7234.32531531509, \"Month\": \"2019-05-31T00:00:00\"}, {\"Open\": 9361.864604025921, \"High\": 9369.376206496321, \"Low\": 9353.968650367862, \"Close\": 9361.411365419875, \"Volume_(BTC)\": 7.797679264135334, \"Volume_(Currency)\": 78088.32582782085, \"Weighted_Price\": 9361.787471802674, \"Month\": \"2019-06-30T00:00:00\"}, {\"Open\": 10671.944988708845, \"High\": 10680.690347996966, \"Low\": 10662.658928910292, \"Close\": 10672.149660810352, \"Volume_(BTC)\": 8.345824200058377, \"Volume_(Currency)\": 89631.22774167321, \"Weighted_Price\": 10671.368500680319, \"Month\": \"2019-07-31T00:00:00\"}, {\"Open\": 10618.244128500832, \"High\": 10624.1393552205, \"Low\": 10611.628380087848, \"Close\": 10617.729889427344, \"Volume_(BTC)\": 5.675777040241663, \"Volume_(Currency)\": 60917.75652226094, \"Weighted_Price\": 10617.966132586102, \"Month\": \"2019-08-31T00:00:00\"}, {\"Open\": 9786.282583646313, \"High\": 9791.275409083424, \"Low\": 9779.89871284045, \"Close\": 9783.826320283142, \"Volume_(BTC)\": 5.085752450416156, \"Volume_(Currency)\": 48032.38286190604, \"Weighted_Price\": 9786.434234730492, \"Month\": \"2019-09-30T00:00:00\"}, {\"Open\": 8368.0058940383, \"High\": 8373.653173003415, \"Low\": 8363.518180202494, \"Close\": 8367.720931383641, \"Volume_(BTC)\": 6.147061206279663, \"Volume_(Currency)\": 52852.3704148068, \"Weighted_Price\": 8368.913102606724, \"Month\": \"2019-10-31T00:00:00\"}, {\"Open\": 8336.165163444843, \"High\": 8341.077414279727, \"Low\": 8331.63341776014, \"Close\": 8336.2626955459, \"Volume_(BTC)\": 4.37797702341846, \"Volume_(Currency)\": 34952.54638440986, \"Weighted_Price\": 8336.599600199213, \"Month\": \"2019-11-30T00:00:00\"}, {\"Open\": 7240.451387379275, \"High\": 7244.225846048935, \"Low\": 7236.783346901703, \"Close\": 7240.441817168816, \"Volume_(BTC)\": 2.929999689326444, \"Volume_(Currency)\": 21126.441887775025, \"Weighted_Price\": 7240.856313659882, \"Month\": \"2019-12-31T00:00:00\"}, {\"Open\": 8324.445997972593, \"High\": 8329.409152737142, \"Low\": 8320.019888037765, \"Close\": 8324.543275061918, \"Volume_(BTC)\": 4.565740505071182, \"Volume_(Currency)\": 38436.78016851718, \"Weighted_Price\": 8325.103326131084, \"Month\": \"2020-01-31T00:00:00\"}, {\"Open\": 9646.123397799925, \"High\": 9653.15084669397, \"Low\": 9640.673862966349, \"Close\": 9646.404206389076, \"Volume_(BTC)\": 4.08624512104323, \"Volume_(Currency)\": 39434.591481620344, \"Weighted_Price\": 9647.502248610283, \"Month\": \"2020-02-29T00:00:00\"}, {\"Open\": 6935.356256973121, \"High\": 6942.3072378436, \"Low\": 6928.244283488006, \"Close\": 6935.202731892433, \"Volume_(BTC)\": 10.880775078447916, \"Volume_(Currency)\": 67722.29784684333, \"Weighted_Price\": 6935.509450632464, \"Month\": \"2020-03-31T00:00:00\"}, {\"Open\": 6946.83328829911, \"High\": 6950.562594315534, \"Low\": 6942.99951876047, \"Close\": 6946.847207647867, \"Volume_(BTC)\": 6.498915611421485, \"Volume_(Currency)\": 45169.617112087595, \"Weighted_Price\": 6946.98175422884, \"Month\": \"2020-04-30T00:00:00\"}]}}, {\"mode\": \"vega-lite\"});\n",
       "</script>"
      ],
      "text/plain": [
       "alt.Chart(...)"
      ]
     },
     "execution_count": 29,
     "metadata": {},
     "output_type": "execute_result"
    }
   ],
   "source": [
    "# Set Index to column so it can be referenced in altair\n",
    "bitcoin_monthly[\"Month\"] = bitcoin_monthly.index\n",
    "# Graph Bitcoin Price over time\n",
    "alt.Chart(bitcoin_monthly).mark_line().encode(\n",
    "    x = alt.X('Month', title='Year'),\n",
    "    y = alt.Y('Close', axis=alt.Axis(title='Closing Price (USD)')),\n",
    "    color=alt.value('orange'),\n",
    ").properties(\n",
    "    title='Bitcoin Historical Price'\n",
    ").configure_title(\n",
    "    fontSize=20,\n",
    "    font='Courier',\n",
    "    anchor='start',\n",
    "    color='gray'\n",
    ")"
   ]
  },
  {
   "cell_type": "markdown",
   "metadata": {},
   "source": [
    "Let's look at the general trend in Bitcoin Stock Prices over the past 8 years. There is a noticeable, meteoric rise in 2017 that is preceeded by years of slow growth."
   ]
  },
  {
   "cell_type": "code",
   "execution_count": 17,
   "metadata": {},
   "outputs": [
    {
     "ename": "KeyError",
     "evalue": "'Timestamp'",
     "output_type": "error",
     "traceback": [
      "\u001b[0;31m---------------------------------------------------------------------------\u001b[0m",
      "\u001b[0;31mKeyError\u001b[0m                                  Traceback (most recent call last)",
      "\u001b[0;32m/opt/conda/lib/python3.7/site-packages/pandas/core/indexes/base.py\u001b[0m in \u001b[0;36mget_loc\u001b[0;34m(self, key, method, tolerance)\u001b[0m\n\u001b[1;32m   2896\u001b[0m             \u001b[0;32mtry\u001b[0m\u001b[0;34m:\u001b[0m\u001b[0;34m\u001b[0m\u001b[0;34m\u001b[0m\u001b[0m\n\u001b[0;32m-> 2897\u001b[0;31m                 \u001b[0;32mreturn\u001b[0m \u001b[0mself\u001b[0m\u001b[0;34m.\u001b[0m\u001b[0m_engine\u001b[0m\u001b[0;34m.\u001b[0m\u001b[0mget_loc\u001b[0m\u001b[0;34m(\u001b[0m\u001b[0mkey\u001b[0m\u001b[0;34m)\u001b[0m\u001b[0;34m\u001b[0m\u001b[0;34m\u001b[0m\u001b[0m\n\u001b[0m\u001b[1;32m   2898\u001b[0m             \u001b[0;32mexcept\u001b[0m \u001b[0mKeyError\u001b[0m\u001b[0;34m:\u001b[0m\u001b[0;34m\u001b[0m\u001b[0;34m\u001b[0m\u001b[0m\n",
      "\u001b[0;32mpandas/_libs/index.pyx\u001b[0m in \u001b[0;36mpandas._libs.index.IndexEngine.get_loc\u001b[0;34m()\u001b[0m\n",
      "\u001b[0;32mpandas/_libs/index.pyx\u001b[0m in \u001b[0;36mpandas._libs.index.IndexEngine.get_loc\u001b[0;34m()\u001b[0m\n",
      "\u001b[0;32mpandas/_libs/hashtable_class_helper.pxi\u001b[0m in \u001b[0;36mpandas._libs.hashtable.PyObjectHashTable.get_item\u001b[0;34m()\u001b[0m\n",
      "\u001b[0;32mpandas/_libs/hashtable_class_helper.pxi\u001b[0m in \u001b[0;36mpandas._libs.hashtable.PyObjectHashTable.get_item\u001b[0;34m()\u001b[0m\n",
      "\u001b[0;31mKeyError\u001b[0m: 'Timestamp'",
      "\nDuring handling of the above exception, another exception occurred:\n",
      "\u001b[0;31mKeyError\u001b[0m                                  Traceback (most recent call last)",
      "\u001b[0;32m<ipython-input-17-901de110efa4>\u001b[0m in \u001b[0;36m<module>\u001b[0;34m\u001b[0m\n\u001b[1;32m      1\u001b[0m \u001b[0;31m# Do dates correspond with data?\u001b[0m\u001b[0;34m\u001b[0m\u001b[0;34m\u001b[0m\u001b[0;34m\u001b[0m\u001b[0m\n\u001b[1;32m      2\u001b[0m \u001b[0mbitcoin_daily\u001b[0m\u001b[0;34m[\u001b[0m\u001b[0;34m\"Month\"\u001b[0m\u001b[0;34m]\u001b[0m \u001b[0;34m=\u001b[0m \u001b[0mpd\u001b[0m\u001b[0;34m.\u001b[0m\u001b[0mDatetimeIndex\u001b[0m\u001b[0;34m(\u001b[0m\u001b[0mbitcoin_daily\u001b[0m\u001b[0;34m.\u001b[0m\u001b[0mreset_index\u001b[0m\u001b[0;34m(\u001b[0m\u001b[0;34m)\u001b[0m\u001b[0;34m[\u001b[0m\u001b[0;34m'Timestamp'\u001b[0m\u001b[0;34m]\u001b[0m\u001b[0;34m)\u001b[0m\u001b[0;34m.\u001b[0m\u001b[0mmonth\u001b[0m\u001b[0;34m\u001b[0m\u001b[0;34m\u001b[0m\u001b[0m\n\u001b[0;32m----> 3\u001b[0;31m \u001b[0mbitcoin_daily\u001b[0m\u001b[0;34m[\u001b[0m\u001b[0;34m\"Year\"\u001b[0m\u001b[0;34m]\u001b[0m \u001b[0;34m=\u001b[0m \u001b[0mpd\u001b[0m\u001b[0;34m.\u001b[0m\u001b[0mDatetimeIndex\u001b[0m\u001b[0;34m(\u001b[0m\u001b[0mbitcoin_daily\u001b[0m\u001b[0;34m[\u001b[0m\u001b[0;34m'Timestamp'\u001b[0m\u001b[0;34m]\u001b[0m\u001b[0;34m)\u001b[0m\u001b[0;34m.\u001b[0m\u001b[0myear\u001b[0m\u001b[0;34m\u001b[0m\u001b[0;34m\u001b[0m\u001b[0m\n\u001b[0m\u001b[1;32m      4\u001b[0m \u001b[0mbitcoin_daily\u001b[0m\u001b[0;34m.\u001b[0m\u001b[0minfo\u001b[0m\u001b[0;34m\u001b[0m\u001b[0;34m\u001b[0m\u001b[0m\n\u001b[1;32m      5\u001b[0m \u001b[0;34m\u001b[0m\u001b[0m\n",
      "\u001b[0;32m/opt/conda/lib/python3.7/site-packages/pandas/core/frame.py\u001b[0m in \u001b[0;36m__getitem__\u001b[0;34m(self, key)\u001b[0m\n\u001b[1;32m   2993\u001b[0m             \u001b[0;32mif\u001b[0m \u001b[0mself\u001b[0m\u001b[0;34m.\u001b[0m\u001b[0mcolumns\u001b[0m\u001b[0;34m.\u001b[0m\u001b[0mnlevels\u001b[0m \u001b[0;34m>\u001b[0m \u001b[0;36m1\u001b[0m\u001b[0;34m:\u001b[0m\u001b[0;34m\u001b[0m\u001b[0;34m\u001b[0m\u001b[0m\n\u001b[1;32m   2994\u001b[0m                 \u001b[0;32mreturn\u001b[0m \u001b[0mself\u001b[0m\u001b[0;34m.\u001b[0m\u001b[0m_getitem_multilevel\u001b[0m\u001b[0;34m(\u001b[0m\u001b[0mkey\u001b[0m\u001b[0;34m)\u001b[0m\u001b[0;34m\u001b[0m\u001b[0;34m\u001b[0m\u001b[0m\n\u001b[0;32m-> 2995\u001b[0;31m             \u001b[0mindexer\u001b[0m \u001b[0;34m=\u001b[0m \u001b[0mself\u001b[0m\u001b[0;34m.\u001b[0m\u001b[0mcolumns\u001b[0m\u001b[0;34m.\u001b[0m\u001b[0mget_loc\u001b[0m\u001b[0;34m(\u001b[0m\u001b[0mkey\u001b[0m\u001b[0;34m)\u001b[0m\u001b[0;34m\u001b[0m\u001b[0;34m\u001b[0m\u001b[0m\n\u001b[0m\u001b[1;32m   2996\u001b[0m             \u001b[0;32mif\u001b[0m \u001b[0mis_integer\u001b[0m\u001b[0;34m(\u001b[0m\u001b[0mindexer\u001b[0m\u001b[0;34m)\u001b[0m\u001b[0;34m:\u001b[0m\u001b[0;34m\u001b[0m\u001b[0;34m\u001b[0m\u001b[0m\n\u001b[1;32m   2997\u001b[0m                 \u001b[0mindexer\u001b[0m \u001b[0;34m=\u001b[0m \u001b[0;34m[\u001b[0m\u001b[0mindexer\u001b[0m\u001b[0;34m]\u001b[0m\u001b[0;34m\u001b[0m\u001b[0;34m\u001b[0m\u001b[0m\n",
      "\u001b[0;32m/opt/conda/lib/python3.7/site-packages/pandas/core/indexes/base.py\u001b[0m in \u001b[0;36mget_loc\u001b[0;34m(self, key, method, tolerance)\u001b[0m\n\u001b[1;32m   2897\u001b[0m                 \u001b[0;32mreturn\u001b[0m \u001b[0mself\u001b[0m\u001b[0;34m.\u001b[0m\u001b[0m_engine\u001b[0m\u001b[0;34m.\u001b[0m\u001b[0mget_loc\u001b[0m\u001b[0;34m(\u001b[0m\u001b[0mkey\u001b[0m\u001b[0;34m)\u001b[0m\u001b[0;34m\u001b[0m\u001b[0;34m\u001b[0m\u001b[0m\n\u001b[1;32m   2898\u001b[0m             \u001b[0;32mexcept\u001b[0m \u001b[0mKeyError\u001b[0m\u001b[0;34m:\u001b[0m\u001b[0;34m\u001b[0m\u001b[0;34m\u001b[0m\u001b[0m\n\u001b[0;32m-> 2899\u001b[0;31m                 \u001b[0;32mreturn\u001b[0m \u001b[0mself\u001b[0m\u001b[0;34m.\u001b[0m\u001b[0m_engine\u001b[0m\u001b[0;34m.\u001b[0m\u001b[0mget_loc\u001b[0m\u001b[0;34m(\u001b[0m\u001b[0mself\u001b[0m\u001b[0;34m.\u001b[0m\u001b[0m_maybe_cast_indexer\u001b[0m\u001b[0;34m(\u001b[0m\u001b[0mkey\u001b[0m\u001b[0;34m)\u001b[0m\u001b[0;34m)\u001b[0m\u001b[0;34m\u001b[0m\u001b[0;34m\u001b[0m\u001b[0m\n\u001b[0m\u001b[1;32m   2900\u001b[0m         \u001b[0mindexer\u001b[0m \u001b[0;34m=\u001b[0m \u001b[0mself\u001b[0m\u001b[0;34m.\u001b[0m\u001b[0mget_indexer\u001b[0m\u001b[0;34m(\u001b[0m\u001b[0;34m[\u001b[0m\u001b[0mkey\u001b[0m\u001b[0;34m]\u001b[0m\u001b[0;34m,\u001b[0m \u001b[0mmethod\u001b[0m\u001b[0;34m=\u001b[0m\u001b[0mmethod\u001b[0m\u001b[0;34m,\u001b[0m \u001b[0mtolerance\u001b[0m\u001b[0;34m=\u001b[0m\u001b[0mtolerance\u001b[0m\u001b[0;34m)\u001b[0m\u001b[0;34m\u001b[0m\u001b[0;34m\u001b[0m\u001b[0m\n\u001b[1;32m   2901\u001b[0m         \u001b[0;32mif\u001b[0m \u001b[0mindexer\u001b[0m\u001b[0;34m.\u001b[0m\u001b[0mndim\u001b[0m \u001b[0;34m>\u001b[0m \u001b[0;36m1\u001b[0m \u001b[0;32mor\u001b[0m \u001b[0mindexer\u001b[0m\u001b[0;34m.\u001b[0m\u001b[0msize\u001b[0m \u001b[0;34m>\u001b[0m \u001b[0;36m1\u001b[0m\u001b[0;34m:\u001b[0m\u001b[0;34m\u001b[0m\u001b[0;34m\u001b[0m\u001b[0m\n",
      "\u001b[0;32mpandas/_libs/index.pyx\u001b[0m in \u001b[0;36mpandas._libs.index.IndexEngine.get_loc\u001b[0;34m()\u001b[0m\n",
      "\u001b[0;32mpandas/_libs/index.pyx\u001b[0m in \u001b[0;36mpandas._libs.index.IndexEngine.get_loc\u001b[0;34m()\u001b[0m\n",
      "\u001b[0;32mpandas/_libs/hashtable_class_helper.pxi\u001b[0m in \u001b[0;36mpandas._libs.hashtable.PyObjectHashTable.get_item\u001b[0;34m()\u001b[0m\n",
      "\u001b[0;32mpandas/_libs/hashtable_class_helper.pxi\u001b[0m in \u001b[0;36mpandas._libs.hashtable.PyObjectHashTable.get_item\u001b[0;34m()\u001b[0m\n",
      "\u001b[0;31mKeyError\u001b[0m: 'Timestamp'"
     ]
    }
   ],
   "source": [
    "# Do dates correspond with data?\n",
    "bitcoin_daily[\"Month\"] = pd.DatetimeIndex(bitcoin_daily['day']).month\n",
    "bitcoin_daily[\"Year\"] = pd.DatetimeIndex(bitcoin_daily['day']).year\n",
    "bitcoin_daily.info\n",
    "\n",
    "monthly_averages = bitcoin_daily.groupby('Month').mean()\n",
    "monthly_averages[\"Month\"] = monthly_averages.index\n",
    "dates = {1:'January', 2:'February', 3 : 'March', 4: 'April', 5 : 'May', 6:'June', 7:'July', 8:'August', 9:'September', 10: 'October', 11: 'November', 12: 'December'}\n",
    "monthly_averages.replace({\"Month\": dates}, inplace=True)\n",
    "\n",
    "alt.Chart(monthly_averages).mark_bar().encode(\n",
    "    x= alt.X('Month', sort=None),\n",
    "    y= alt.Y('Close', axis=alt.Axis(format='$', title='\"Average Price of Bitcoin in USD\"'))\n",
    ").properties(\n",
    "    title = \"Average Price of Bitcoin by Month\"\n",
    ").configure_title(\n",
    "    fontSize=20,\n",
    "    font='Courier',\n",
    "    anchor='start',\n",
    "    color='gray'\n",
    ")"
   ]
  },
  {
   "cell_type": "code",
   "execution_count": null,
   "metadata": {},
   "outputs": [],
   "source": []
  },
  {
   "cell_type": "code",
   "execution_count": null,
   "metadata": {},
   "outputs": [],
   "source": []
  },
  {
   "cell_type": "code",
   "execution_count": null,
   "metadata": {},
   "outputs": [],
   "source": [
    "# Often we use basic market indicators to predict stock performance\n",
    "# Is Bitcoin Coorelated with other instruments as a whole\n",
    "start = bitcoin_monthly[\"Month\"].iloc[0]\n",
    "end = bitcoin_monthly[\"Month\"].iloc[100]\n",
    "bitcoin_monthly[\"S&P500\"] = DataReader.DataReader(['sp500'], 'fred', start, end)\n",
    "bitcoin_monthly[\"Nikkiei\"] = DataReader.DataReader(['NIKKEI225'], 'fred', start, end)\n",
    "#bitcoin_monthly[\"GDP\"] = DataReader.DataReader('A191RL1Q225SBEA', 'fred', start, end)\n",
    "bitcoin_monthly"
   ]
  },
  {
   "cell_type": "code",
   "execution_count": null,
   "metadata": {},
   "outputs": [],
   "source": [
    "# is bitcoin coorelated with these indicators\n",
    "bitcoin_monthly.corr()['Close'].iloc[7:]"
   ]
  },
  {
   "cell_type": "code",
   "execution_count": null,
   "metadata": {},
   "outputs": [],
   "source": [
    "# Nicely visualized with chart below\n",
    "bitcoin_sp = alt.Chart(bitcoin_monthly).mark_point().encode(\n",
    "    x = alt.X('Close', axis=alt.Axis(format='$', title='Bitcoin (USD)')),\n",
    "    y = alt.Y('S&P500',axis=alt.Axis(format='$', title='S&P (USD)')),\n",
    "    color=alt.value('green'),\n",
    ").mark_circle(size=30)\n",
    "(bitcoin_sp + bitcoin_sp.transform_regression('Close', 'S&P500').mark_line()).configure_title(\n",
    "    fontSize=20,\n",
    "    font='Courier',\n",
    "    anchor='start',\n",
    "    color='gray'\n",
    ").properties(\n",
    "    title = \"Coorelation Between Bitcoin, S&P 500\"\n",
    ")"
   ]
  },
  {
   "cell_type": "code",
   "execution_count": null,
   "metadata": {},
   "outputs": [],
   "source": [
    "bitcoin_sp = alt.Chart(bitcoin_monthly).mark_point().encode(\n",
    "    x = alt.X('Close', axis=alt.Axis(format='$', title='Bitcoin (USD)')),\n",
    "    y = alt.Y('Nikkiei',axis=alt.Axis(format='$', title='Nikkiei (Tokyo) (USD)')),\n",
    "    color=alt.value('red'),\n",
    ").mark_circle(size=30)\n",
    "(bitcoin_sp + bitcoin_sp.transform_regression('Close', 'Nikkiei').mark_line()).configure_title(\n",
    "    fontSize=20,\n",
    "    font='Courier',\n",
    "    anchor='start',\n",
    "    color='gray'\n",
    ").properties(\n",
    "    title = \"Coorelation Between Bitcoin, Nikkie Index\"\n",
    ")"
   ]
  },
  {
   "cell_type": "code",
   "execution_count": null,
   "metadata": {},
   "outputs": [],
   "source": [
    "# It seems like it is, so lets fit a model with these values\n",
    "# first add data to day by day value\n",
    "bitcoin_daily[\"day\"] = bitcoin_daily.index\n",
    "\n",
    "\n",
    "start = bitcoin_daily[\"day\"].iloc[0]\n",
    "end = bitcoin_daily[\"day\"].iloc[3035]\n",
    "bitcoin_daily[\"S&P500\"] = DataReader.DataReader(['sp500'], 'fred', start, end)\n",
    "bitcoin_daily[\"Nikkiei\"] = DataReader.DataReader(['NIKKEI225'], 'fred', start, end)"
   ]
  },
  {
   "cell_type": "code",
   "execution_count": null,
   "metadata": {},
   "outputs": [],
   "source": [
    "print(bitcoin_daily.isnull().sum()*100/bitcoin_daily.isnull().count())"
   ]
  },
  {
   "cell_type": "code",
   "execution_count": null,
   "metadata": {},
   "outputs": [],
   "source": [
    "# NaNs correspond to weekends/holidays, so we drop them\n",
    "bitcoin_daily.dropna(inplace = True)"
   ]
  },
  {
   "cell_type": "code",
   "execution_count": null,
   "metadata": {},
   "outputs": [],
   "source": [
    "bitcoin_daily"
   ]
  },
  {
   "cell_type": "code",
   "execution_count": null,
   "metadata": {},
   "outputs": [],
   "source": [
    "# Do dates correspond with data?\n",
    "bitcoin_daily[\"Month\"] = pd.DatetimeIndex(bitcoin_daily['day']).month\n",
    "bitcoin_daily[\"Year\"] = pd.DatetimeIndex(bitcoin_daily['day']).year\n",
    "bitcoin_daily.info"
   ]
  },
  {
   "cell_type": "code",
   "execution_count": null,
   "metadata": {},
   "outputs": [],
   "source": [
    "monthly_averages = bitcoin_daily.groupby('Month').mean()\n",
    "monthly_averages[\"Month\"] = monthly_averages.index\n",
    "dates = {1:'January', 2:'February', 3 : 'March', 4: 'April', 5 : 'May', 6:'June', 7:'July', 8:'August', 9:'September', 10: 'October', 11: 'November', 12: 'December'}\n",
    "monthly_averages.replace({\"Month\": dates}, inplace=True)"
   ]
  },
  {
   "cell_type": "code",
   "execution_count": null,
   "metadata": {},
   "outputs": [],
   "source": [
    "alt.Chart(monthly_averages).mark_bar().encode(\n",
    "    x= alt.X('Month', sort=None),\n",
    "    y= alt.Y('Close', axis=alt.Axis(format='$', title='Average Price of Bitcoin in USD'))\n",
    ").properties(\n",
    "    title = \"Average Price of Bitcoin by Month\"\n",
    ").configure_title(\n",
    "    fontSize=20,\n",
    "    font='Courier',\n",
    "    anchor='start',\n",
    "    color='gray'\n",
    ")"
   ]
  },
  {
   "cell_type": "code",
   "execution_count": null,
   "metadata": {},
   "outputs": [],
   "source": [
    "# Make a model\n",
    "def add_bias(data):\n",
    "    data.insert(0, 'ones', np.ones(len(data)))\n",
    "\n",
    "Y = bitcoin_daily[\"Close\"]\n",
    "X = bitcoin_daily[[\"Volume_(BTC)\", \"Volume_(Currency)\", \"S&P500\", \"Nikkiei\", \"Month\"]]"
   ]
  },
  {
   "cell_type": "code",
   "execution_count": null,
   "metadata": {},
   "outputs": [],
   "source": [
    "add_bias(X)"
   ]
  },
  {
   "cell_type": "code",
   "execution_count": null,
   "metadata": {},
   "outputs": [],
   "source": [
    "X.replace({\"Month\": dates}, inplace=True)"
   ]
  },
  {
   "cell_type": "code",
   "execution_count": null,
   "metadata": {},
   "outputs": [],
   "source": [
    "X"
   ]
  },
  {
   "cell_type": "code",
   "execution_count": null,
   "metadata": {},
   "outputs": [],
   "source": [
    "# One Hot Encoding\n",
    "from sklearn.feature_extraction import DictVectorizer\n",
    "\n",
    "# one-hot encoding \n",
    "X_features_with_Month=X\n",
    "\n",
    "Month = X_features_with_Month[['Month']].to_dict(orient='records') \n",
    "\n",
    "encoder = DictVectorizer(sparse=False)\n",
    "Month_df = pd.DataFrame(\n",
    "    data = encoder.fit_transform(Month),\n",
    "    columns = encoder.feature_names_\n",
    ")\n",
    "\n",
    "\n",
    "# adjusting the index inconsistency issue\n",
    "X_features_with_Month.reset_index(drop=True, inplace=True)\n",
    "Month_df.reset_index(drop=True, inplace=True)\n",
    "\n",
    "# Combine the features together with pd.concat\n",
    "X_with_Month = pd.concat([X_features_with_Month,Month_df],ignore_index=False,axis=1).drop(['Month'],axis=1)\n",
    "X_with_Month"
   ]
  },
  {
   "cell_type": "code",
   "execution_count": null,
   "metadata": {},
   "outputs": [],
   "source": [
    "def avg_squared_loss(y, y_hat):\n",
    "    #return np.array([(y[i] - y_hat[i])**2 for i in range(0,len(y))]).sum()/len(y)\n",
    "    return np.mean((y - y_hat)**2)\n",
    "\n",
    "model = LinearRegression()\n",
    "result = model.fit(X_with_Month,Y)\n",
    "Y_hat = model.predict(X_with_Month)\n",
    "loss = avg_squared_loss(Y_hat, Y)\n",
    "loss"
   ]
  },
  {
   "cell_type": "code",
   "execution_count": null,
   "metadata": {},
   "outputs": [],
   "source": [
    "model.coef_"
   ]
  },
  {
   "cell_type": "code",
   "execution_count": null,
   "metadata": {},
   "outputs": [],
   "source": [
    "model.coef_.max()"
   ]
  },
  {
   "cell_type": "code",
   "execution_count": null,
   "metadata": {},
   "outputs": [],
   "source": [
    "alt.data_transformers.disable_max_rows()\n",
    "\n",
    "source = pd.DataFrame({\n",
    "    'Y': Y,\n",
    "    'Y_hat': Y_hat\n",
    "})\n",
    "\n",
    "layer1 = alt.Chart(source).mark_circle(size=4).encode(\n",
    "    x='Y',\n",
    "    y='Y_hat',\n",
    "    color = alt.value('red')\n",
    ").properties(\n",
    "    title='Expected (Y) vs Prediction (Y_Hat)'\n",
    ")\n",
    "\n",
    "layer1 + layer1.transform_regression('Y', 'Y_hat').mark_line()"
   ]
  },
  {
   "cell_type": "code",
   "execution_count": null,
   "metadata": {},
   "outputs": [],
   "source": [
    "# Find worse predictions of Linear Model SCIKIT Learn\n",
    "bad_predictions = pd.DataFrame(data=Y, columns=[\"Y\"])\n",
    "bad_predictions[\"Predicted\"] = Y\n",
    "bad_predictions[\"Y_hat\"] = Y_hat\n",
    "bad_predictions[\"Difference\"] = (bad_predictions[\"Predicted\"] - bad_predictions[\"Y_hat\"])**2"
   ]
  },
  {
   "cell_type": "code",
   "execution_count": null,
   "metadata": {},
   "outputs": [],
   "source": [
    "# Tends to be inaccurate for larger values of Y"
   ]
  },
  {
   "cell_type": "code",
   "execution_count": null,
   "metadata": {},
   "outputs": [],
   "source": [
    "bad_predictions[\"Bad Guess\"] = bad_predictions[\"Difference\"] > bad_predictions[\"Difference\"].mean()"
   ]
  },
  {
   "cell_type": "code",
   "execution_count": null,
   "metadata": {},
   "outputs": [],
   "source": [
    "bad_predictions[bad_predictions[\"Bad Guess\"]==True]\n",
    "bitcoin_daily[\"Bad Guess\"] = bad_predictions[\"Bad Guess\"]"
   ]
  },
  {
   "cell_type": "code",
   "execution_count": null,
   "metadata": {},
   "outputs": [],
   "source": [
    "bad_dates = bitcoin_daily[bitcoin_daily[\"Bad Guess\"]==True].groupby('Month').count()\n",
    "bad_dates[\"Month\"] = bad_dates.index\n",
    "dates = {1:'January', 2:'February', 3 : 'March', 4: 'April', 5 : 'May', 6:'June', 7:'July', 8:'August', 9:'September', 10: 'October', 11: 'November', 12: 'December'}\n",
    "bad_dates.replace({\"Month\": dates}, inplace=True)"
   ]
  },
  {
   "cell_type": "code",
   "execution_count": null,
   "metadata": {},
   "outputs": [],
   "source": [
    "alt.Chart(bad_dates).mark_bar().encode(\n",
    "    x= alt.X('Month', sort=None),\n",
    "    y= alt.Y('Close', axis=alt.Axis(title='\"Count of Bad Predictions\"'))\n",
    ").properties(\n",
    "    title = \"Bad Predictions by Date\"\n",
    ").configure_title(\n",
    "    fontSize=20,\n",
    "    font='Courier',\n",
    "    anchor='start',\n",
    "    color='gray'\n",
    ")"
   ]
  },
  {
   "cell_type": "code",
   "execution_count": null,
   "metadata": {},
   "outputs": [],
   "source": [
    "bitcoin_daily.loc[bad_predictions[\"Difference\"].idxmax()]"
   ]
  },
  {
   "cell_type": "code",
   "execution_count": null,
   "metadata": {},
   "outputs": [],
   "source": [
    "bad_predictions"
   ]
  },
  {
   "cell_type": "code",
   "execution_count": null,
   "metadata": {},
   "outputs": [],
   "source": [
    "bad_dates2 = bitcoin_daily[bitcoin_daily[\"Bad Guess\"]==True].groupby('Year').count()\n",
    "bad_dates2[\"Year\"] = bad_dates2.index\n",
    "#dates = {1:'January', 2:'February', 3 : 'March', 4: 'April', 5 : 'May', 6:'June', 7:'July', 8:'August', 9:'September', 10: 'October', 11: 'November', 12: 'December'}\n",
    "#bad_dates.replace({\"Month\": dates}, inplace=True)"
   ]
  },
  {
   "cell_type": "code",
   "execution_count": null,
   "metadata": {},
   "outputs": [],
   "source": [
    "alt.Chart(bad_dates2).mark_bar(size=10).encode(\n",
    "    x= alt.X('Year:O'),\n",
    "    y= alt.Y('Close', axis=alt.Axis(title='Count of Bad Predictions'))\n",
    ").properties(\n",
    "    title = \"Bad Predictions by Year\"\n",
    ").configure_title(\n",
    "    fontSize=20,\n",
    "    font='Courier',\n",
    "    anchor='start',\n",
    "    color='gray'\n",
    ")"
   ]
  },
  {
   "cell_type": "code",
   "execution_count": null,
   "metadata": {},
   "outputs": [],
   "source": [
    "# Notice that most of the changes took place during bitcoins meteoric rise, when the predicitons were lower."
   ]
  }
 ],
 "metadata": {
  "kernelspec": {
   "display_name": "Python 3",
   "language": "python",
   "name": "python3"
  },
  "language_info": {
   "codemirror_mode": {
    "name": "ipython",
    "version": 3
   },
   "file_extension": ".py",
   "mimetype": "text/x-python",
   "name": "python",
   "nbconvert_exporter": "python",
   "pygments_lexer": "ipython3",
   "version": "3.7.6"
  },
  "toc": {
   "base_numbering": 1,
   "nav_menu": {},
   "number_sections": true,
   "sideBar": true,
   "skip_h1_title": false,
   "title_cell": "Table of Contents",
   "title_sidebar": "Contents",
   "toc_cell": false,
   "toc_position": {},
   "toc_section_display": true,
   "toc_window_display": false
  }
 },
 "nbformat": 4,
 "nbformat_minor": 4
}
